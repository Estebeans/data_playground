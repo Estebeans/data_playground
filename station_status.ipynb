{
 "cells": [
  {
   "cell_type": "code",
   "execution_count": 7,
   "id": "a573ba13",
   "metadata": {},
   "outputs": [],
   "source": [
    "import pandas as pd\n",
    "import geopandas as gpd\n",
    "import matplotlib.pyplot as plt\n",
    "import seaborn as sns\n",
    "import json"
   ]
  },
  {
   "cell_type": "code",
   "execution_count": 8,
   "id": "a135c326",
   "metadata": {},
   "outputs": [
    {
     "data": {
      "text/html": [
       "<div>\n",
       "<style scoped>\n",
       "    .dataframe tbody tr th:only-of-type {\n",
       "        vertical-align: middle;\n",
       "    }\n",
       "\n",
       "    .dataframe tbody tr th {\n",
       "        vertical-align: top;\n",
       "    }\n",
       "\n",
       "    .dataframe thead th {\n",
       "        text-align: right;\n",
       "    }\n",
       "</style>\n",
       "<table border=\"1\" class=\"dataframe\">\n",
       "  <thead>\n",
       "    <tr style=\"text-align: right;\">\n",
       "      <th></th>\n",
       "      <th>is_renting</th>\n",
       "      <th>station_id</th>\n",
       "      <th>is_installed</th>\n",
       "      <th>is_returning</th>\n",
       "      <th>last_reported</th>\n",
       "      <th>num_bikes_available</th>\n",
       "      <th>num_docks_available</th>\n",
       "    </tr>\n",
       "  </thead>\n",
       "  <tbody>\n",
       "    <tr>\n",
       "      <th>0</th>\n",
       "      <td>True</td>\n",
       "      <td>00000001</td>\n",
       "      <td>True</td>\n",
       "      <td>True</td>\n",
       "      <td>1757520849</td>\n",
       "      <td>12</td>\n",
       "      <td>8</td>\n",
       "    </tr>\n",
       "    <tr>\n",
       "      <th>1</th>\n",
       "      <td>True</td>\n",
       "      <td>00000002</td>\n",
       "      <td>True</td>\n",
       "      <td>True</td>\n",
       "      <td>1757520849</td>\n",
       "      <td>0</td>\n",
       "      <td>15</td>\n",
       "    </tr>\n",
       "    <tr>\n",
       "      <th>2</th>\n",
       "      <td>True</td>\n",
       "      <td>00000003</td>\n",
       "      <td>True</td>\n",
       "      <td>True</td>\n",
       "      <td>1757520849</td>\n",
       "      <td>1</td>\n",
       "      <td>10</td>\n",
       "    </tr>\n",
       "    <tr>\n",
       "      <th>3</th>\n",
       "      <td>True</td>\n",
       "      <td>00000004</td>\n",
       "      <td>True</td>\n",
       "      <td>True</td>\n",
       "      <td>1757520849</td>\n",
       "      <td>3</td>\n",
       "      <td>4</td>\n",
       "    </tr>\n",
       "    <tr>\n",
       "      <th>4</th>\n",
       "      <td>True</td>\n",
       "      <td>00000005</td>\n",
       "      <td>True</td>\n",
       "      <td>True</td>\n",
       "      <td>1757520849</td>\n",
       "      <td>5</td>\n",
       "      <td>12</td>\n",
       "    </tr>\n",
       "  </tbody>\n",
       "</table>\n",
       "</div>"
      ],
      "text/plain": [
       "   is_renting station_id  is_installed  is_returning  last_reported  \\\n",
       "0        True   00000001          True          True     1757520849   \n",
       "1        True   00000002          True          True     1757520849   \n",
       "2        True   00000003          True          True     1757520849   \n",
       "3        True   00000004          True          True     1757520849   \n",
       "4        True   00000005          True          True     1757520849   \n",
       "\n",
       "   num_bikes_available  num_docks_available  \n",
       "0                   12                    8  \n",
       "1                    0                   15  \n",
       "2                    1                   10  \n",
       "3                    3                    4  \n",
       "4                    5                   12  "
      ]
     },
     "execution_count": 8,
     "metadata": {},
     "output_type": "execute_result"
    }
   ],
   "source": [
    "# load the JSON file\n",
    "with open(\"data (raw)/bikeshare/station_status.json\", \"r\") as f:\n",
    "    data = json.load(f)\n",
    "\n",
    "# extract stations and convert to DataFrame\n",
    "df = pd.DataFrame(data[\"data\"][\"stations\"])\n",
    "\n",
    "# display first rows in the notebook\n",
    "df.head()\n",
    "\n"
   ]
  },
  {
   "cell_type": "code",
   "execution_count": 9,
   "id": "5726cc5d",
   "metadata": {},
   "outputs": [
    {
     "data": {
      "text/plain": [
       "(4991, 7)"
      ]
     },
     "execution_count": 9,
     "metadata": {},
     "output_type": "execute_result"
    }
   ],
   "source": [
    "df.shape"
   ]
  },
  {
   "cell_type": "code",
   "execution_count": 10,
   "id": "5045364c",
   "metadata": {},
   "outputs": [
    {
     "data": {
      "text/plain": [
       "Index(['is_renting', 'station_id', 'is_installed', 'is_returning',\n",
       "       'last_reported', 'num_bikes_available', 'num_docks_available'],\n",
       "      dtype='object')"
      ]
     },
     "execution_count": 10,
     "metadata": {},
     "output_type": "execute_result"
    }
   ],
   "source": [
    "df.columns"
   ]
  }
 ],
 "metadata": {
  "kernelspec": {
   "display_name": "Python 3",
   "language": "python",
   "name": "python3"
  },
  "language_info": {
   "codemirror_mode": {
    "name": "ipython",
    "version": 3
   },
   "file_extension": ".py",
   "mimetype": "text/x-python",
   "name": "python",
   "nbconvert_exporter": "python",
   "pygments_lexer": "ipython3",
   "version": "3.12.1"
  }
 },
 "nbformat": 4,
 "nbformat_minor": 5
}
