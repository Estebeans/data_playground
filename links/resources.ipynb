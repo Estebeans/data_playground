{
 "cells": [
  {
   "cell_type": "markdown",
   "id": "63b6b315",
   "metadata": {},
   "source": [
    "Data dictionary for bikeshare tables\n",
    "\n",
    "https://gbfs.org/documentation/reference/?utm_source=chatgpt.com#term-definitions\n",
    "\n",
    "API for bikeshare data download\n",
    "\n",
    "https://api-public.odpt.org/api/v4/gbfs/docomo-cycle/gbfs.json"
   ]
  }
 ],
 "metadata": {
  "language_info": {
   "name": "python"
  }
 },
 "nbformat": 4,
 "nbformat_minor": 5
}
